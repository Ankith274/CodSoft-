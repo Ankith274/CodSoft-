{
 "cells": [
  {
   "cell_type": "code",
   "execution_count": 1,
   "metadata": {},
   "outputs": [
    {
     "name": "stdout",
     "output_type": "stream",
     "text": [
      "Welcome! Type 'bye' to exit.\n",
      "Chatbot: I'm sorry, I don't understand that.\n",
      "Chatbot: I'm sorry, I don't understand that.\n",
      "Chatbot: I'm sorry, I don't understand that.\n"
     ]
    }
   ],
   "source": [
    "# Define rules for the chatbot\n",
    "rules = {\n",
    "    \"hi\": \"Hello! How can I help you?\",\n",
    "    \"how are you\": \"I'm good, thank you! How about you?\",\n",
    "    \"bye\": \"Goodbye! Have a nice day.\",\n",
    "    \"default\": \"I'm sorry, I don't understand that.\",\n",
    "}\n",
    "\n",
    "# Function to respond to user input\n",
    "def respond(input_text):\n",
    "    input_text = input_text.lower()\n",
    "    \n",
    "    # Check if input matches any rule\n",
    "    for key in rules:\n",
    "        if key in input_text:\n",
    "            return rules[key]\n",
    "    \n",
    "    # If no match found, return default response\n",
    "    return rules[\"default\"]\n",
    "\n",
    "# Main function to run the chatbot\n",
    "def main():\n",
    "    print(\"Welcome! Type 'bye' to exit.\")\n",
    "    while True:\n",
    "        user_input = input(\"You: \")\n",
    "        if user_input.lower() == 'bye':\n",
    "            print(\"Chatbot: Goodbye! Have a nice day.\")\n",
    "            break\n",
    "        else:\n",
    "            response = respond(user_input)\n",
    "            print(\"Chatbot:\", response)\n",
    "\n",
    "# Run the main function\n",
    "if __name__ == \"__main__\":\n",
    "    main()"
   ]
  }
 ],
 "metadata": {
  "kernelspec": {
   "display_name": "Python 3",
   "language": "python",
   "name": "python3"
  },
  "language_info": {
   "codemirror_mode": {
    "name": "ipython",
    "version": 3
   },
   "file_extension": ".py",
   "mimetype": "text/x-python",
   "name": "python",
   "nbconvert_exporter": "python",
   "pygments_lexer": "ipython3",
   "version": "3.9.6"
  }
 },
 "nbformat": 4,
 "nbformat_minor": 2
}
